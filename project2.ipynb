{
  "cells": [
    {
      "cell_type": "code",
      "source": [
        "import pandas as pd\n",
        "import numpy as np\n",
        "from matplotlib import pyplot as plt\n",
        "import seaborn as sns\n",
        "from scipy import stats\n",
        "import scipy.stats as stats"
      ],
      "metadata": {
        "id": "DWtsp6YXHRuZ"
      },
      "execution_count": 98,
      "outputs": []
    },
    {
      "cell_type": "markdown",
      "source": [
        "###  Prepare data"
      ],
      "metadata": {
        "id": "rinFOyK1Q1CD"
      }
    },
    {
      "cell_type": "code",
      "source": [
        "crimeHousing = pd.read_csv('crime-housing-austin-2015.csv')\n",
        "zipCodeData = pd.read_csv('AustinZipCodes.csv')\n",
        "crimeHousing = crimeHousing.rename(columns = {\n",
        "    'Highest_NIBRS_UCR_Offense_Description':'Type_of_Crime',\n",
        "    'Zip_Code_Crime':'Zip Code'\n",
        "})\n",
        "df_crime = pd.read_csv('crime-housing-austin-2015.csv')\n",
        "df_zip = pd.read_csv('AustinZipCodes.csv')\n",
        "\n",
        "def clearance_rate(series):\n",
        "    return (series.isin(['C', 'H'])).sum() / series.isin(['C', 'H', 'N']).sum()\n",
        "\n",
        "df_1 = df_crime.copy()\n",
        "df_1[['Report_Date', 'Clearance_Date']] = df_1[['Report_Date', 'Clearance_Date']].apply(pd.to_datetime)\n",
        "df_1['Days_Open'] = (df_1.Clearance_Date - df_1.Report_Date).dt.days.astype('float')\n",
        "df_1.Medianhouseholdincome = df_1.Medianhouseholdincome.str.replace('$', '', regex=False).astype('float')\n",
        "df_1 = df_1.dropna()\n",
        "\n",
        "df_time = df_1.groupby('Medianhouseholdincome').agg({'Days_Open': 'mean'}).reset_index()\n",
        "\n",
        "df_status = df_1.groupby('Medianhouseholdincome').agg({'Clearance_Status': clearance_rate}).reset_index()\n",
        "df_status = df_status.rename(columns={'Clearance_Status': 'Clearance_Rate'})\n",
        "\n",
        "\n",
        "df_type = df_1[df_1.Clearance_Status.isin(['C', 'N'])]"
      ],
      "metadata": {
        "id": "e_4sxuCFFuCX"
      },
      "execution_count": 99,
      "outputs": []
    },
    {
      "cell_type": "code",
      "source": [
        "crimeHousing[crimeHousing.isna().any(axis=1)]\n",
        "crimeHousing = crimeHousing.dropna()"
      ],
      "metadata": {
        "id": "eBk4z0q3Ft_J"
      },
      "execution_count": 100,
      "outputs": []
    },
    {
      "cell_type": "markdown",
      "source": [
        "## **Analysis 1:- Type of crime Happened more frequently due to Unemployment**"
      ],
      "metadata": {
        "id": "sT1YnFVdmzCo"
      }
    },
    {
      "cell_type": "code",
      "source": [
        "sns.set(rc={\"figure.figsize\": (15, 8)})\n",
        "crimeHousing['Medianhouseholdincome'] = crimeHousing['Medianhouseholdincome'].astype(str).str.replace('$', '').astype('float')\n",
        "crimeHousing['Unemployment'] = crimeHousing['Unemployment'].astype(str).str.replace('%', '').astype('float')\n",
        "sns.displot(data=crimeHousing, x='Unemployment', hue='Type_of_Crime', kind='kde')"
      ],
      "metadata": {
        "id": "BA5TTZhfNYZg"
      },
      "execution_count": null,
      "outputs": []
    },
    {
      "cell_type": "code",
      "source": [
        "crimeHousing1 = crimeHousing[(crimeHousing.Type_of_Crime == \"Theft\") | (crimeHousing.Type_of_Crime == \"Murder\")]\n",
        "sns.displot(data=crimeHousing1, x='Unemployment', hue='Type_of_Crime', kind='kde')"
      ],
      "metadata": {
        "id": "BTta454Xkpg3"
      },
      "execution_count": null,
      "outputs": []
    },
    {
      "cell_type": "code",
      "source": [
        "print('t-test on Theft vs Murder' , stats.ttest_ind(crimeHousing[crimeHousing['Type_of_Crime'] == 'Theft'].Unemployment, crimeHousing[crimeHousing['Type_of_Crime'] == 'Murder'].Unemployment))\n",
        "display(f'Theft mean: {crimeHousing[crimeHousing.Type_of_Crime==\"Theft\"].Unemployment.mean()}')\n",
        "display(f'Murder mean: {crimeHousing[crimeHousing.Type_of_Crime==\"Murder\"].Unemployment.mean()}')\n",
        "display(f'Theft sd: {crimeHousing[crimeHousing.Type_of_Crime==\"Theft\"].Unemployment.std()}')\n",
        "display(f'Murder sd: {crimeHousing[crimeHousing.Type_of_Crime==\"Murder\"].Unemployment.std()}')"
      ],
      "metadata": {
        "colab": {
          "base_uri": "https://localhost:8080/",
          "height": 114
        },
        "id": "yZHK1-ngk6sQ",
        "outputId": "26c0c4a5-7b68-4121-ae71-f7e2306427e2"
      },
      "execution_count": 103,
      "outputs": [
        {
          "output_type": "stream",
          "name": "stdout",
          "text": [
            "t-test on Theft vs Murder Ttest_indResult(statistic=-2.339287406357652, pvalue=0.019328194556069666)\n"
          ]
        },
        {
          "output_type": "display_data",
          "data": {
            "text/plain": [
              "'Theft mean: 8.148122148122148'"
            ],
            "application/vnd.google.colaboratory.intrinsic+json": {
              "type": "string"
            }
          },
          "metadata": {}
        },
        {
          "output_type": "display_data",
          "data": {
            "text/plain": [
              "'Murder mean: 9.5'"
            ],
            "application/vnd.google.colaboratory.intrinsic+json": {
              "type": "string"
            }
          },
          "metadata": {}
        },
        {
          "output_type": "display_data",
          "data": {
            "text/plain": [
              "'Theft sd: 2.4508223339076105'"
            ],
            "application/vnd.google.colaboratory.intrinsic+json": {
              "type": "string"
            }
          },
          "metadata": {}
        },
        {
          "output_type": "display_data",
          "data": {
            "text/plain": [
              "'Murder sd: 2.6623739959137307'"
            ],
            "application/vnd.google.colaboratory.intrinsic+json": {
              "type": "string"
            }
          },
          "metadata": {}
        }
      ]
    },
    {
      "cell_type": "code",
      "source": [
        "crimeHousing2 = crimeHousing[(crimeHousing.Type_of_Crime == \"Robbery\") | (crimeHousing.Type_of_Crime == \"Burglary\")]\n",
        "sns.displot(data=crimeHousing2, x='Unemployment', hue='Type_of_Crime', kind='kde')"
      ],
      "metadata": {
        "id": "8Hxd0Hltkpbk"
      },
      "execution_count": null,
      "outputs": []
    },
    {
      "cell_type": "code",
      "source": [
        "print('t-test on Robbery vs Burglary' , stats.ttest_ind(crimeHousing[crimeHousing['Type_of_Crime'] == 'Robbery'].Unemployment, crimeHousing[crimeHousing['Type_of_Crime'] == 'Burglary'].Unemployment))\n",
        "display(f'Robbery mean: {crimeHousing[crimeHousing.Type_of_Crime==\"Robbery\"].Unemployment.mean()}')\n",
        "display(f'Burglary mean: {crimeHousing[crimeHousing.Type_of_Crime==\"Burglary\"].Unemployment.mean()}')\n",
        "display(f'Robbery sd: {crimeHousing[crimeHousing.Type_of_Crime==\"Robbery\"].Unemployment.std()}')\n",
        "display(f'Burglary sd: {crimeHousing[crimeHousing.Type_of_Crime==\"Burglary\"].Unemployment.std()}')"
      ],
      "metadata": {
        "colab": {
          "base_uri": "https://localhost:8080/",
          "height": 114
        },
        "id": "acEIukPok8X0",
        "outputId": "3c62a202-114f-442b-96a4-449921d36077"
      },
      "execution_count": 105,
      "outputs": [
        {
          "output_type": "stream",
          "name": "stdout",
          "text": [
            "t-test on Robbery vs Burglary Ttest_indResult(statistic=6.136959355865872, pvalue=9.002914990984188e-10)\n"
          ]
        },
        {
          "output_type": "display_data",
          "data": {
            "text/plain": [
              "'Robbery mean: 8.83975155279503'"
            ],
            "application/vnd.google.colaboratory.intrinsic+json": {
              "type": "string"
            }
          },
          "metadata": {}
        },
        {
          "output_type": "display_data",
          "data": {
            "text/plain": [
              "'Burglary mean: 8.299399914273467'"
            ],
            "application/vnd.google.colaboratory.intrinsic+json": {
              "type": "string"
            }
          },
          "metadata": {}
        },
        {
          "output_type": "display_data",
          "data": {
            "text/plain": [
              "'Robbery sd: 1.9573588504769623'"
            ],
            "application/vnd.google.colaboratory.intrinsic+json": {
              "type": "string"
            }
          },
          "metadata": {}
        },
        {
          "output_type": "display_data",
          "data": {
            "text/plain": [
              "'Burglary sd: 2.3621133524380955'"
            ],
            "application/vnd.google.colaboratory.intrinsic+json": {
              "type": "string"
            }
          },
          "metadata": {}
        }
      ]
    },
    {
      "cell_type": "code",
      "source": [
        "crimeHousing3 = crimeHousing[(crimeHousing.Type_of_Crime == \"Auto Theft\") | (crimeHousing.Type_of_Crime == \"Agg Assault\")]\n",
        "sns.displot(data=crimeHousing3, x='Unemployment', hue='Type_of_Crime', kind='kde')"
      ],
      "metadata": {
        "id": "PQKYxfqQkpVi"
      },
      "execution_count": null,
      "outputs": []
    },
    {
      "cell_type": "code",
      "source": [
        "print('t-test on Auto Theft vs Agg Assault' , stats.ttest_ind(crimeHousing[crimeHousing['Type_of_Crime'] == 'Auto Theft'].Unemployment, crimeHousing[crimeHousing['Type_of_Crime'] == 'Agg Assault'].Unemployment))\n",
        "display(f'Auto Theft mean: {crimeHousing[crimeHousing.Type_of_Crime==\"Auto Theft\"].Unemployment.mean()}')\n",
        "display(f'Agg Assault mean: {crimeHousing[crimeHousing.Type_of_Crime==\"Agg Assault\"].Unemployment.mean()}')\n",
        "display(f'Auto Theft sd: {crimeHousing[crimeHousing.Type_of_Crime==\"Auto Theft\"].Unemployment.std()}')\n",
        "display(f'Agg Assault sd: {crimeHousing[crimeHousing.Type_of_Crime==\"Agg Assault\"].Unemployment.std()}')"
      ],
      "metadata": {
        "colab": {
          "base_uri": "https://localhost:8080/",
          "height": 114
        },
        "id": "PsNKZhiMk_B8",
        "outputId": "a34d7763-d42b-4670-d6f8-57ad5524c834"
      },
      "execution_count": 107,
      "outputs": [
        {
          "output_type": "stream",
          "name": "stdout",
          "text": [
            "t-test on Auto Theft vs Agg Assault Ttest_indResult(statistic=-4.879972160951359, pvalue=1.1064200613736018e-06)\n"
          ]
        },
        {
          "output_type": "display_data",
          "data": {
            "text/plain": [
              "'Auto Theft mean: 8.407545164718385'"
            ],
            "application/vnd.google.colaboratory.intrinsic+json": {
              "type": "string"
            }
          },
          "metadata": {}
        },
        {
          "output_type": "display_data",
          "data": {
            "text/plain": [
              "'Agg Assault mean: 8.76966610073571'"
            ],
            "application/vnd.google.colaboratory.intrinsic+json": {
              "type": "string"
            }
          },
          "metadata": {}
        },
        {
          "output_type": "display_data",
          "data": {
            "text/plain": [
              "'Auto Theft sd: 2.3076062724142044'"
            ],
            "application/vnd.google.colaboratory.intrinsic+json": {
              "type": "string"
            }
          },
          "metadata": {}
        },
        {
          "output_type": "display_data",
          "data": {
            "text/plain": [
              "'Agg Assault sd: 2.1659955827899537'"
            ],
            "application/vnd.google.colaboratory.intrinsic+json": {
              "type": "string"
            }
          },
          "metadata": {}
        }
      ]
    },
    {
      "cell_type": "code",
      "source": [
        "crimeHousing4 = crimeHousing[(crimeHousing.Type_of_Crime == \"Theft\") | (crimeHousing.Type_of_Crime == \"Agg Assault\")]\n",
        "sns.displot(data=crimeHousing4, x='Unemployment', hue='Type_of_Crime', kind='kde')"
      ],
      "metadata": {
        "id": "ICZI9OF3k1lx"
      },
      "execution_count": null,
      "outputs": []
    },
    {
      "cell_type": "code",
      "source": [
        "print('t-test on Theft vs Agg Assault' , stats.ttest_ind(crimeHousing[crimeHousing['Type_of_Crime'] == 'Theft'].Unemployment, crimeHousing[crimeHousing['Type_of_Crime'] == 'Agg Assault'].Unemployment))\n",
        "display(f'Theft mean: {crimeHousing[crimeHousing.Type_of_Crime==\"Theft\"].Unemployment.mean()}')\n",
        "display(f'Agg Assault mean: {crimeHousing[crimeHousing.Type_of_Crime==\"Agg Assault\"].Unemployment.mean()}')\n",
        "display(f'Theft sd: {crimeHousing[crimeHousing.Type_of_Crime==\"Theft\"].Unemployment.std()}')\n",
        "display(f'Agg Assault sd: {crimeHousing[crimeHousing.Type_of_Crime==\"Agg Assault\"].Unemployment.std()}')"
      ],
      "metadata": {
        "id": "7ihB8xQWHNhV",
        "colab": {
          "base_uri": "https://localhost:8080/",
          "height": 114
        },
        "outputId": "ceb89bb9-6dac-456c-e94a-6b6f683ffa77"
      },
      "execution_count": 109,
      "outputs": [
        {
          "output_type": "stream",
          "name": "stdout",
          "text": [
            "t-test on Theft vs Agg Assault Ttest_indResult(statistic=-10.384659927335715, pvalue=3.243403221741965e-25)\n"
          ]
        },
        {
          "output_type": "display_data",
          "data": {
            "text/plain": [
              "'Theft mean: 8.148122148122148'"
            ],
            "application/vnd.google.colaboratory.intrinsic+json": {
              "type": "string"
            }
          },
          "metadata": {}
        },
        {
          "output_type": "display_data",
          "data": {
            "text/plain": [
              "'Agg Assault mean: 8.76966610073571'"
            ],
            "application/vnd.google.colaboratory.intrinsic+json": {
              "type": "string"
            }
          },
          "metadata": {}
        },
        {
          "output_type": "display_data",
          "data": {
            "text/plain": [
              "'Theft sd: 2.4508223339076105'"
            ],
            "application/vnd.google.colaboratory.intrinsic+json": {
              "type": "string"
            }
          },
          "metadata": {}
        },
        {
          "output_type": "display_data",
          "data": {
            "text/plain": [
              "'Agg Assault sd: 2.1659955827899537'"
            ],
            "application/vnd.google.colaboratory.intrinsic+json": {
              "type": "string"
            }
          },
          "metadata": {}
        }
      ]
    },
    {
      "cell_type": "markdown",
      "source": [
        "## **Analysis 2:- How Unemployment effected Median Household Income**"
      ],
      "metadata": {
        "id": "D8WWc9vPnFXM"
      }
    },
    {
      "cell_type": "code",
      "source": [
        "sns.regplot(data=crimeHousing, x='Unemployment', y='Medianhouseholdincome')\n",
        "plt.ylabel(\"Median House Hold Income\")"
      ],
      "metadata": {
        "id": "a6gIQ4Y3Ftuc"
      },
      "execution_count": null,
      "outputs": []
    },
    {
      "cell_type": "code",
      "source": [
        "# Pearson correlation coefficient r\n",
        "(r,p) = stats.pearsonr(crimeHousing.Medianhouseholdincome, crimeHousing.Unemployment)\n",
        "print('r =', r, 'p =', p)"
      ],
      "metadata": {
        "id": "H-hDnxDbFAx_",
        "colab": {
          "base_uri": "https://localhost:8080/"
        },
        "outputId": "a3cb3d35-8021-4f55-99cf-b9c4bf7cc42f"
      },
      "execution_count": 111,
      "outputs": [
        {
          "output_type": "stream",
          "name": "stdout",
          "text": [
            "r = -0.784898476696578 p = 0.0\n"
          ]
        }
      ]
    },
    {
      "cell_type": "markdown",
      "source": [
        "## **Display statistics**"
      ],
      "metadata": {
        "id": "jbR6JR_ARBqh"
      }
    },
    {
      "cell_type": "code",
      "source": [
        "display(stats.pearsonr(df_time.Medianhouseholdincome, df_time.Days_Open))\n",
        "display(stats.pearsonr(df_status.Medianhouseholdincome, df_status.Clearance_Rate))\n",
        "display(stats.ttest_ind(df_time.Days_Open, df_status.Clearance_Rate))\n",
        "\n",
        "print(\"Standard deviation =\", df_time.Days_Open.std(), \", Mean =\", df_time.Days_Open.mean())"
      ],
      "metadata": {
        "colab": {
          "base_uri": "https://localhost:8080/",
          "height": 85
        },
        "id": "ka0Pwgo4FwcZ",
        "outputId": "4f1341cc-83f2-4645-9e9b-d1b7995d6b4c"
      },
      "execution_count": 112,
      "outputs": [
        {
          "output_type": "display_data",
          "data": {
            "text/plain": [
              "(0.18490513060741628, 0.2876056282584789)"
            ]
          },
          "metadata": {}
        },
        {
          "output_type": "display_data",
          "data": {
            "text/plain": [
              "(-0.18978305218788982, 0.27485199175065045)"
            ]
          },
          "metadata": {}
        },
        {
          "output_type": "display_data",
          "data": {
            "text/plain": [
              "Ttest_indResult(statistic=11.62327807488749, pvalue=8.178398102499528e-18)"
            ]
          },
          "metadata": {}
        },
        {
          "output_type": "stream",
          "name": "stdout",
          "text": [
            "Standard deviation = 9.397588167246566 , Mean = 18.58032196575925\n"
          ]
        }
      ]
    },
    {
      "cell_type": "markdown",
      "source": [
        "## **Plot data**"
      ],
      "metadata": {
        "id": "uDavd_3ORK2-"
      }
    },
    {
      "cell_type": "markdown",
      "source": [
        "## **Analysis 3**"
      ],
      "metadata": {
        "id": "6Sczi47DSsN1"
      }
    },
    {
      "cell_type": "code",
      "source": [
        "fig, axs = plt.subplots(ncols=2, figsize=(12, 6))\n",
        "\n",
        "sns.regplot(data=df_time, x='Medianhouseholdincome', y='Days_Open', scatter_kws={'s': 3}, line_kws={'color': 'red'}, ax=axs[0])\n",
        "plt.savefig(\"img1.png\")\n",
        "sns.regplot(data=df_status, x='Medianhouseholdincome', y='Clearance_Rate', scatter_kws={'s': 3}, line_kws={'color': 'red'}, ax=axs[1])\n",
        "plt.savefig(\"img2.png\")\n",
        "\n",
        "axs[0].set(xlabel='Median Household Income ($)', ylabel='Average Days to Close Case', title='Income vs Time')\n",
        "axs[1].set(xlabel='Median Household Income ($)', ylabel='Clearance Rate', title='Income vs Clearance')"
      ],
      "metadata": {
        "id": "oc1hOKpCFwMt"
      },
      "execution_count": null,
      "outputs": []
    },
    {
      "cell_type": "markdown",
      "source": [],
      "metadata": {
        "id": "CqsP4pghSqQz"
      }
    },
    {
      "cell_type": "markdown",
      "source": [
        "## **Analysis 3**"
      ],
      "metadata": {
        "id": "KddNbyV2SwvI"
      }
    },
    {
      "cell_type": "code",
      "source": [
        "sns.displot(data=df_type, x='Medianhouseholdincome', hue='Clearance_Status', kind='kde', common_norm=False)\n",
        "plt.xlabel('Median Household Income ($)')\n",
        "plt.title('Income and Clearance Status')\n",
        "plt.savefig(\"img3.png\")"
      ],
      "metadata": {
        "id": "-mgQA0rUFtz-"
      },
      "execution_count": null,
      "outputs": []
    },
    {
      "cell_type": "code",
      "source": [],
      "metadata": {
        "id": "31GsBvbaFstl"
      },
      "execution_count": 114,
      "outputs": []
    }
  ],
  "metadata": {
    "language_info": {
      "name": "python"
    },
    "orig_nbformat": 4,
    "colab": {
      "provenance": []
    },
    "kernelspec": {
      "name": "python3",
      "display_name": "Python 3"
    },
    "gpuClass": "standard"
  },
  "nbformat": 4,
  "nbformat_minor": 0
}